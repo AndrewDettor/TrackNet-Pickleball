{
 "cells": [
  {
   "cell_type": "code",
   "execution_count": 1,
   "metadata": {},
   "outputs": [],
   "source": [
    "import os\n",
    "import queue\n",
    "import cv2\n",
    "import numpy as np\n",
    "from PIL import Image, ImageDraw\n",
    "import csv\n",
    "import sys"
   ]
  },
  {
   "cell_type": "code",
   "execution_count": 2,
   "metadata": {},
   "outputs": [],
   "source": [
    "vids = [\"Error1Raw.mp4\", \"Error2Raw.mp4\", \"InPlayBalls_54min_vid.mp4\"]"
   ]
  },
  {
   "cell_type": "code",
   "execution_count": 3,
   "metadata": {},
   "outputs": [],
   "source": [
    "def get_trajectory(predict_csv_dir, vid_dir, trajectory_dir):\n",
    "    # read in predictions\n",
    "    with open(predict_csv_dir) as csvfile:\n",
    "        readCSV = csv.reader(csvfile, delimiter=',')\n",
    "        frames = []\n",
    "        x, y = [], []\n",
    "        list1 = []\n",
    "        for row in readCSV:\n",
    "            list1.append(row)\n",
    "        for i in range(1 , len(list1)):\n",
    "            frames += [int(list1[i][0])]\n",
    "            x += [int(float(list1[i][2]))]\n",
    "            y += [int(float(list1[i][3]))]\n",
    "    \n",
    "    num_preds = len(x)\n",
    "    # make queue to draw trajectory\n",
    "    q = queue.deque()\n",
    "    for i in range(0,8):\n",
    "        q.appendleft(None)\n",
    "\n",
    "    # get video fps&video size\n",
    "    currentFrame= 0\n",
    "    video = cv2.VideoCapture(vid_dir)\n",
    "    fps = int(video.get(cv2.CAP_PROP_FPS))\n",
    "    num_frames = int(video.get(cv2.CAP_PROP_FRAME_COUNT))\n",
    "    output_width = int(video.get(cv2.CAP_PROP_FRAME_WIDTH))\n",
    "    output_height = int(video.get(cv2.CAP_PROP_FRAME_HEIGHT))\n",
    "    fourcc = cv2.VideoWriter_fourcc(*'mp4v')\n",
    "    output_video = cv2.VideoWriter(trajectory_dir, fourcc, fps, (output_width,output_height))\n",
    "    video.set(1,currentFrame)\n",
    "\n",
    "    print(f\"\\tnum_frames: {num_frames}, num_preds: {num_preds}\")\n",
    "\n",
    "    ret, img1 = video.read()\n",
    "    #write image to video\n",
    "    output_video.write(img1)\n",
    "    currentFrame +=1\n",
    "    #input must be float type\n",
    "    img1 = img1.astype(np.float32)\n",
    "    #capture frame-by-frame\n",
    "    video.set(1,currentFrame);\n",
    "    ret, img = video.read()\n",
    "    #write image to video\n",
    "    output_video.write(img)\n",
    "    currentFrame +=1\n",
    "    #input must be float type\n",
    "    img = img.astype(np.float32)\n",
    "    while(currentFrame < num_preds and currentFrame < num_frames):\n",
    "        #capture frame-by-frame\n",
    "        video.set(1,currentFrame); \n",
    "        ret, img = video.read()\n",
    "            #if there dont have any frame in video, break\n",
    "        if not ret: \n",
    "            break\n",
    "        PIL_image = cv2.cvtColor(img, cv2.COLOR_BGR2RGB)   \n",
    "        PIL_image = Image.fromarray(PIL_image)\n",
    "        if x[currentFrame] != 0 and y[currentFrame] != 0:\n",
    "            q.appendleft([x[currentFrame],y[currentFrame]])\n",
    "            q.pop()\n",
    "        else:\n",
    "            q.appendleft(None)\n",
    "            q.pop()\n",
    "        for i in range(0,8):\n",
    "            if q[i] is not None:\n",
    "                draw_x = q[i][0]\n",
    "                draw_y = q[i][1]\n",
    "                bbox =  (draw_x - 2, draw_y - 2, draw_x + 2, draw_y + 2)\n",
    "                draw = ImageDraw.Draw(PIL_image)\n",
    "                draw.ellipse(bbox, outline ='yellow')\n",
    "                del draw\n",
    "        opencvImage =  cv2.cvtColor(np.array(PIL_image), cv2.COLOR_RGB2BGR)\n",
    "        #write image to output_video\n",
    "        output_video.write(opencvImage)\n",
    "        #next frame\n",
    "        currentFrame += 1\n",
    "    video.release()\n",
    "    output_video.release()\n",
    "    print(f\"\\tFinished on frame {currentFrame}\")\n",
    "    "
   ]
  },
  {
   "cell_type": "code",
   "execution_count": 7,
   "metadata": {},
   "outputs": [],
   "source": [
    "# versions = [\"old\", \"new\"]\n",
    "versions = [\"new\"]"
   ]
  },
  {
   "cell_type": "code",
   "execution_count": 8,
   "metadata": {},
   "outputs": [
    {
     "name": "stdout",
     "output_type": "stream",
     "text": [
      "Getting InPlayBalls_54min_vid.mp4 trajectory with new weights...\n",
      "\tnum_frames: 12810, num_preds: 12810\n",
      "\tFinished on frame 12810\n"
     ]
    }
   ],
   "source": [
    "for vid in vids[2:3]:\n",
    "    vid_root = vid[:-4]\n",
    "    vid_dir = f\"{vid_root}/{vid}\"\n",
    "    for version in versions:\n",
    "        predict_csv_dir = f\"{vid_root}/{vid_root}_{version}_weights_predict.csv\"\n",
    "        trajectory_dir = f\"{vid_root}/{vid_root}_{version}_weights_trajectory.mp4\"\n",
    "        print(f\"Getting {vid} trajectory with {version} weights...\")\n",
    "        get_trajectory(predict_csv_dir, vid_dir, trajectory_dir)"
   ]
  },
  {
   "cell_type": "code",
   "execution_count": null,
   "metadata": {},
   "outputs": [],
   "source": []
  }
 ],
 "metadata": {
  "kernelspec": {
   "display_name": "base",
   "language": "python",
   "name": "python3"
  },
  "language_info": {
   "codemirror_mode": {
    "name": "ipython",
    "version": 3
   },
   "file_extension": ".py",
   "mimetype": "text/x-python",
   "name": "python",
   "nbconvert_exporter": "python",
   "pygments_lexer": "ipython3",
   "version": "3.8.8"
  },
  "orig_nbformat": 4
 },
 "nbformat": 4,
 "nbformat_minor": 2
}
